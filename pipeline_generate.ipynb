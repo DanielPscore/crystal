{
 "cells": [
  {
   "cell_type": "code",
   "execution_count": 6,
   "id": "bibliographic-sweden",
   "metadata": {},
   "outputs": [
    {
     "name": "stdout",
     "output_type": "stream",
     "text": [
      "Overwriting ./test_pipeline.py\n"
     ]
    }
   ],
   "source": [
    "%%writefile ./test_pipeline.py\n",
    "import kfp\n",
    "import kfp.components as comp\n",
    "\n",
    "\n",
    "\n",
    "# First function\n",
    "def inf(image_path: str, output_string: comp.OutputPath(str)):\n",
    "    import ObjectDetection as objd\n",
    "    import cv2\n",
    "    # from Communication import *\n",
    "    from Upload import upload_simple\n",
    "    import YouGet\n",
    "    # Download image\n",
    "    path = YouGet.download(image_path,\"test\", objd.config.workin_dir+\"/Data\", \".jpeg\")\n",
    "    # read and inference\n",
    "    img = cv2.imread(path)\n",
    "    r = objd.person(img)\n",
    "    inf = objd.plot_many_box(img, r[\"bb\"], label=[\"person\"] * len(r[\"bb\"]))\n",
    "    cv2.imwrite(\"inf.jpeg\", inf)\n",
    "    url = upload_simple(\"inf.jpeg\")\n",
    "\n",
    "    # producer.publish_message({\"inference\":url})\n",
    "    # Create Artifact : S3 path to uploded inf\n",
    "    with open(output_string, 'w') as writer:\n",
    "        writer.write(url)\n",
    "\n",
    "# 2nd function\n",
    "def print_url(url: comp.InputPath(str)):\n",
    "\n",
    "    #print url\n",
    "    with open(url, 'r') as reader:\n",
    "        line = reader.readline()\n",
    "        print(line)\n",
    "\n",
    "\n",
    "# Link to your container image\n",
    "base_img = \"ultralytics/yolov5:latest\"  # Change to your registry's URI\n",
    "\n",
    "# Create first OP\n",
    "make_inf = kfp.components.create_component_from_func(inf, base_image=base_img)\n",
    "\n",
    "# Create second OP\n",
    "do_print = kfp.components.create_component_from_func(print_url, base_image=base_img)\n",
    "\n",
    "\n",
    "@kfp.dsl.pipeline( name='Sonalysis Object Detection', description='Sonalysis Object Detection')\n",
    "def inf_upload(image_path):\n",
    "    # Call the first OP\n",
    "    first_task = make_inf(image_path)\n",
    "\n",
    "    # Call the second OP and pass the first task's outputs\n",
    "    second_task = do_print(first_task.outputs['output_string'])\n",
    "\n"
   ]
  },
  {
   "cell_type": "code",
   "execution_count": 7,
   "id": "economic-subsection",
   "metadata": {},
   "outputs": [],
   "source": [
    "%%sh\n",
    "dsl-compile --py test_pipeline.py --output test_pipeline.yaml"
   ]
  },
  {
   "cell_type": "code",
   "execution_count": null,
   "id": "polar-emission",
   "metadata": {},
   "outputs": [],
   "source": []
  }
 ],
 "metadata": {
  "kernelspec": {
   "display_name": "Python 3",
   "language": "python",
   "name": "python3"
  },
  "language_info": {
   "codemirror_mode": {
    "name": "ipython",
    "version": 3
   },
   "file_extension": ".py",
   "mimetype": "text/x-python",
   "name": "python",
   "nbconvert_exporter": "python",
   "pygments_lexer": "ipython3",
   "version": "3.9.7"
  }
 },
 "nbformat": 4,
 "nbformat_minor": 5
}
